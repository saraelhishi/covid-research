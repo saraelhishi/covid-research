{
 "cells": [
  {
   "cell_type": "code",
   "execution_count": 1,
   "metadata": {},
   "outputs": [],
   "source": [
    "import pandas as pd\n",
    "import os\n",
    "from zipfile import ZipFile"
   ]
  },
  {
   "cell_type": "markdown",
   "metadata": {},
   "source": [
    "<h2> Unzipping Month's Tweet Files </h2>"
   ]
  },
  {
   "cell_type": "code",
   "execution_count": 15,
   "metadata": {},
   "outputs": [],
   "source": [
    "def unzipping(directory):\n",
    "    for zipFile in os.listdir(directory):\n",
    "        filePath=directory+\"//\"+zipFile\n",
    "        zf = ZipFile(filePath, 'r')\n",
    "        zf.extractall(directory)\n",
    "        zf.close()\n",
    "    print(\"Done.\")"
   ]
  },
  {
   "cell_type": "code",
   "execution_count": null,
   "metadata": {},
   "outputs": [],
   "source": [
    "unzipping(\"July\")"
   ]
  },
  {
   "cell_type": "markdown",
   "metadata": {},
   "source": [
    "<h2> Delete Zip Files After Extraction </h2>"
   ]
  },
  {
   "cell_type": "code",
   "execution_count": 19,
   "metadata": {},
   "outputs": [],
   "source": [
    "def delete_zip_files(directory):\n",
    "    for zipFile in os.listdir(directory):\n",
    "        if zipFile.endswith(\".zip\"):\n",
    "            pathToFile=os.path.join(directory, zipFile)\n",
    "            os.remove(pathToFile)\n",
    "    print(\"Done.\")"
   ]
  },
  {
   "cell_type": "code",
   "execution_count": 20,
   "metadata": {},
   "outputs": [
    {
     "name": "stdout",
     "output_type": "stream",
     "text": [
      "Done.\n"
     ]
    }
   ],
   "source": [
    "delete_zip_files(\"July\")"
   ]
  },
  {
   "cell_type": "markdown",
   "metadata": {},
   "source": [
    "<h2> Extract a fraction from each File, then Merge all  files into one Sample File </h2>"
   ]
  },
  {
   "cell_type": "code",
   "execution_count": 22,
   "metadata": {},
   "outputs": [],
   "source": [
    "def sampling_merge(directory):\n",
    "    dfs=pd.DataFrame()\n",
    "    for filename in os.listdir(directory):\n",
    "        path=os.path.join(directory, filename)\n",
    "        df=pd.read_csv(path, header=None)\n",
    "        df_sample=df.sample(frac=0.01)\n",
    "        dfs=dfs.append(df_sample)\n",
    "    dfs.to_csv(directory+\"//\"+directory+\"_sample.csv\", index=False, header=None)\n",
    "    print(\"Done.\")"
   ]
  },
  {
   "cell_type": "code",
   "execution_count": 23,
   "metadata": {},
   "outputs": [
    {
     "name": "stdout",
     "output_type": "stream",
     "text": [
      "Done.\n"
     ]
    }
   ],
   "source": [
    "sampling_merge(\"July\")"
   ]
  },
  {
   "cell_type": "markdown",
   "metadata": {},
   "source": [
    "<h2> Before Hydration: Extract Tweet ids only from Tweet Files </h2>"
   ]
  },
  {
   "cell_type": "code",
   "execution_count": 25,
   "metadata": {},
   "outputs": [],
   "source": [
    "def extract_tweet_id(dir, fileName):\n",
    "    filePath=dir+\"//\"+fileName\n",
    "    df = pd.read_csv(filePath, header=None)\n",
    "    df = df[0]\n",
    "    outFile=dir+\"//ready_\"+fileName\n",
    "    df.to_csv(outFile, index= False, header=None)\n",
    "    print(\"Extraction Done. Ready to Hydrate\")"
   ]
  },
  {
   "cell_type": "code",
   "execution_count": 26,
   "metadata": {},
   "outputs": [
    {
     "name": "stdout",
     "output_type": "stream",
     "text": [
      "Extraction Done. Ready to Hydrate\n"
     ]
    }
   ],
   "source": [
    "extract_tweet_id(\"July\", \"July_sample.csv\")\n"
   ]
  },
  {
   "cell_type": "markdown",
   "metadata": {},
   "source": [
    "<h2> Filter after Hydration Complete </h2>"
   ]
  },
  {
   "cell_type": "code",
   "execution_count": 6,
   "metadata": {},
   "outputs": [],
   "source": [
    "def month_filtering(monthDirectory, monthHydratedFile):\n",
    "    path = monthDirectory+\"//\"+monthHydratedFile+\".csv\"\n",
    "    df_month = pd.read_csv(path)\n",
    "    df_filtered= df_month[(df_month['retweet_count']>0) | (df_month['favorite_count']>0)]\n",
    "    df_filtered.to_csv(path+\"_filtered.csv\", index=False)\n",
    "    print(\"Done filtering.\")\n",
    "    df_sorted = df_filtered.sort_values(by=['retweet_count'], ascending= False)\n",
    "    df_sorted.to_csv(path+\"_filtered_sorted.csv\", index=False)\n",
    "    print(\"Done sorting.\")\n",
    "    df_slice = df_sorted[:100000]\n",
    "    df_slice.to_csv(path+\"_filtered_sorted_sliced.csv\", index=False)\n",
    "    print(\"Done slicing.\")"
   ]
  },
  {
   "cell_type": "code",
   "execution_count": 7,
   "metadata": {},
   "outputs": [
    {
     "name": "stdout",
     "output_type": "stream",
     "text": [
      "Done filtering.\n",
      "Done sorting.\n",
      "Done slicing.\n"
     ]
    }
   ],
   "source": [
    "month_filtering(\"July\",\"ready_July_sample_hydrated\")\n"
   ]
  },
  {
   "cell_type": "markdown",
   "metadata": {},
   "source": [
    "<h4> Just in Case the Month sample is too large, Then before Hydration -- >Take a subset from it </h4>"
   ]
  },
  {
   "cell_type": "code",
   "execution_count": 7,
   "metadata": {},
   "outputs": [],
   "source": [
    "# sample from the total month into 4 quarters\n",
    "def month_subsetting_before_hydration(monthDirectory, monthFile):\n",
    "    path = monthDirectory+\"//\"+monthFile\n",
    "    df_month = pd.read_csv(path)\n",
    "    chunk_size = int(df_month.shape[0]/4)\n",
    "    i = 1\n",
    "    for start in range(0, df_month.shape[0], chunk_size):\n",
    "        df_subset= df_month.iloc[start: start + chunk_size]\n",
    "        df_subset.to_csv(monthDirectory+\"//_subset_\"+str(i)+\".csv\", index=False)\n",
    "        i += 1\n",
    "    print(\"Done.\")"
   ]
  },
  {
   "cell_type": "code",
   "execution_count": 8,
   "metadata": {},
   "outputs": [
    {
     "name": "stdout",
     "output_type": "stream",
     "text": [
      "Done.\n"
     ]
    }
   ],
   "source": [
    "month_subsetting_before_hydration(\"June\",\"June_sample.csv\")"
   ]
  },
  {
   "cell_type": "markdown",
   "metadata": {},
   "source": [
    "<h4> Just in Case the Month file is too large, After Hydration --> divide and filter </h4>"
   ]
  },
  {
   "cell_type": "code",
   "execution_count": 2,
   "metadata": {},
   "outputs": [],
   "source": [
    "# sample from the total month\n",
    "def month_subsetting_after_hydration(monthDirectory, monthHydratedFile):\n",
    "    path = monthDirectory+\"//\"+monthHydratedFile\n",
    "    df_month = pd.read_csv(path)\n",
    "    chunk_size = int(df_month.shape[0]/4)\n",
    "    i = 1\n",
    "    for start in range(0, df_month.shape[0], chunk_size):\n",
    "        df_subset= df_month.iloc[start: start + chunk_size]\n",
    "        df_subset= df_subset[(df_subset['retweet_count']>0) | (df_subset['favorite_count']>0)]\n",
    "        df_subset.to_csv(monthDirectory+\"//_subset_\"+str(i)+\".csv\", index=False)\n",
    "        i += 1"
   ]
  },
  {
   "cell_type": "code",
   "execution_count": 7,
   "metadata": {},
   "outputs": [
    {
     "data": {
      "text/plain": [
       "Index(['coordinates', 'created_at', 'hashtags', 'media', 'urls',\n",
       "       'favorite_count', 'id', 'in_reply_to_screen_name',\n",
       "       'in_reply_to_status_id', 'in_reply_to_user_id', 'lang', 'place',\n",
       "       'possibly_sensitive', 'retweet_count', 'retweet_id',\n",
       "       'retweet_screen_name', 'source', 'text', 'tweet_url', 'user_created_at',\n",
       "       'user_screen_name', 'user_default_profile_image', 'user_description',\n",
       "       'user_favourites_count', 'user_followers_count', 'user_friends_count',\n",
       "       'user_listed_count', 'user_location', 'user_name', 'user_screen_name.1',\n",
       "       'user_statuses_count', 'user_time_zone', 'user_urls', 'user_verified'],\n",
       "      dtype='object')"
      ]
     },
     "execution_count": 7,
     "metadata": {},
     "output_type": "execute_result"
    }
   ],
   "source": [
    "df_month.columns"
   ]
  },
  {
   "cell_type": "code",
   "execution_count": null,
   "metadata": {},
   "outputs": [],
   "source": []
  }
 ],
 "metadata": {
  "kernelspec": {
   "display_name": "Python 3",
   "language": "python",
   "name": "python3"
  },
  "language_info": {
   "codemirror_mode": {
    "name": "ipython",
    "version": 3
   },
   "file_extension": ".py",
   "mimetype": "text/x-python",
   "name": "python",
   "nbconvert_exporter": "python",
   "pygments_lexer": "ipython3",
   "version": "3.7.1"
  }
 },
 "nbformat": 4,
 "nbformat_minor": 2
}
