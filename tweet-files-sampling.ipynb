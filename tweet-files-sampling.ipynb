{
 "cells": [
  {
   "cell_type": "code",
   "execution_count": 1,
   "metadata": {},
   "outputs": [],
   "source": [
    "import pandas as pd\n",
    "import os\n",
    "from zipfile import ZipFile"
   ]
  },
  {
   "cell_type": "code",
   "execution_count": 59,
   "metadata": {},
   "outputs": [],
   "source": [
    "def unzipping(directory):\n",
    "    for zipFile in os.listdir(directory):\n",
    "        filePath=directory+\"//\"+zipFile\n",
    "        zf = ZipFile(filePath, 'r')\n",
    "        zf.extractall(directory)\n",
    "        zf.close()"
   ]
  },
  {
   "cell_type": "code",
   "execution_count": 60,
   "metadata": {},
   "outputs": [],
   "source": [
    "unzipping(\"May\")"
   ]
  },
  {
   "cell_type": "code",
   "execution_count": 63,
   "metadata": {},
   "outputs": [],
   "source": [
    "def sampling_merge(directory):\n",
    "    dfs=pd.DataFrame()\n",
    "    for filename in os.listdir(directory):\n",
    "        path=directory+\"//\"+filename\n",
    "        df=pd.read_csv(path, header=None)\n",
    "        df_sample=df.sample(frac=0.05)\n",
    "        dfs=dfs.append(df_sample)\n",
    "    dfs.to_csv(directory+\"//\"+directory+\"_sample.csv\", index=False, header=None)\n",
    "    print(\"Done.\")"
   ]
  },
  {
   "cell_type": "code",
   "execution_count": 64,
   "metadata": {},
   "outputs": [
    {
     "name": "stdout",
     "output_type": "stream",
     "text": [
      "Done.\n"
     ]
    }
   ],
   "source": [
    "sampling_merge(\"May\")"
   ]
  },
  {
   "cell_type": "code",
   "execution_count": 1,
   "metadata": {},
   "outputs": [],
   "source": [
    "# def sampling(directory):\n",
    "#     for filename in os.listdir(directory):\n",
    "#         path=directory+\"//\"+filename\n",
    "#         df=pd.read_csv(path, header=None)\n",
    "#         df_sample=df.sample(frac=0.10)\n",
    "#         df_sample.to_csv(directory+\"//sample_\"+filename, index=False, header=None)\n",
    "#     print(\"Done.\")"
   ]
  },
  {
   "cell_type": "code",
   "execution_count": 15,
   "metadata": {},
   "outputs": [],
   "source": [
    "# sample from the total month\n",
    "def month_subsetting(monthDirectory, monthHydratedFile):\n",
    "    path = monthDirectory+\"//\"+monthHydratedFile\n",
    "    df_month = pd.read_csv(path)\n",
    "    chunk_size = int(df_month.shape[0]/4)\n",
    "    i = 1\n",
    "    for start in range(0, df_month.shape[0], chunk_size):\n",
    "        df_subset= df_month.iloc[start: start + chunk_size]\n",
    "        #df_subset= df_subset[(df_subset['retweet_count']>0) | (df_subset['favorite_count']>0)]\n",
    "        df_subset.to_csv(monthDirectory+\"//_subset_\"+str(i)+\".csv\", index=False)\n",
    "        i += 1"
   ]
  },
  {
   "cell_type": "code",
   "execution_count": null,
   "metadata": {},
   "outputs": [],
   "source": [
    "month_subsetting(\"May\",\"May_sample.csv\")\n",
    "print(\"Subsetting Done.\")"
   ]
  },
  {
   "cell_type": "code",
   "execution_count": 7,
   "metadata": {},
   "outputs": [
    {
     "data": {
      "text/plain": [
       "Index(['coordinates', 'created_at', 'hashtags', 'media', 'urls',\n",
       "       'favorite_count', 'id', 'in_reply_to_screen_name',\n",
       "       'in_reply_to_status_id', 'in_reply_to_user_id', 'lang', 'place',\n",
       "       'possibly_sensitive', 'retweet_count', 'retweet_id',\n",
       "       'retweet_screen_name', 'source', 'text', 'tweet_url', 'user_created_at',\n",
       "       'user_screen_name', 'user_default_profile_image', 'user_description',\n",
       "       'user_favourites_count', 'user_followers_count', 'user_friends_count',\n",
       "       'user_listed_count', 'user_location', 'user_name', 'user_screen_name.1',\n",
       "       'user_statuses_count', 'user_time_zone', 'user_urls', 'user_verified'],\n",
       "      dtype='object')"
      ]
     },
     "execution_count": 7,
     "metadata": {},
     "output_type": "execute_result"
    }
   ],
   "source": [
    "df_month.columns"
   ]
  },
  {
   "cell_type": "code",
   "execution_count": null,
   "metadata": {},
   "outputs": [],
   "source": []
  }
 ],
 "metadata": {
  "kernelspec": {
   "display_name": "Python 3",
   "language": "python",
   "name": "python3"
  },
  "language_info": {
   "codemirror_mode": {
    "name": "ipython",
    "version": 3
   },
   "file_extension": ".py",
   "mimetype": "text/x-python",
   "name": "python",
   "nbconvert_exporter": "python",
   "pygments_lexer": "ipython3",
   "version": "3.7.1"
  }
 },
 "nbformat": 4,
 "nbformat_minor": 2
}
